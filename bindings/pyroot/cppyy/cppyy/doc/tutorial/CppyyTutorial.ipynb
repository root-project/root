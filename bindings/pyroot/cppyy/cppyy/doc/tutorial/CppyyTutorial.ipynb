{
 "cells": [
  {
   "cell_type": "code",
   "execution_count": 1,
   "metadata": {},
   "outputs": [],
   "source": [
    "from __future__ import print_function"
   ]
  },
  {
   "cell_type": "markdown",
   "metadata": {},
   "source": [
    "## Cppyy Tutorial\n",
    "\n",
    "_(Modified from Enrico Guiraud's cppyy tutorial.)_\n",
    "\n",
    "This tutorial introduces the basic concepts for using cppyy, the automatic Python-C++ generator. To install cppyy on your system, simply run (this may take a while as it will pull in and compile a custom version of LLVM):\n",
    "\n",
    "```\n",
    "$ pip install cppyy\n",
    "```\n",
    "\n",
    "For further details on the installation, as well as the location of binary wheels, see:\n",
    "   http://cppyy.readthedocs.io/en/latest/installation.html\n",
    "\n",
    "To start, import module cppyy. All functionality, including using bound classes, always starts at this top-level."
   ]
  },
  {
   "cell_type": "code",
   "execution_count": 2,
   "metadata": {},
   "outputs": [],
   "source": [
    "import cppyy"
   ]
  },
  {
   "cell_type": "markdown",
   "metadata": {},
   "source": [
    "There are three layers to cppyy: at the top there are the module 'gbl' (the _global_ namespace), a range of helper functions, and a set of sub-modules (such as `py`) that serve specific purposes. Let's start with defining a little helper class in C++ using the helper function `cppdef`, to make the example more interesting:"
   ]
  },
  {
   "cell_type": "code",
   "execution_count": 3,
   "metadata": {},
   "outputs": [],
   "source": [
    "cppyy.cppdef(\"\"\"\n",
    "class Integer1 {\n",
    "public:\n",
    "    Integer1(int i) : m_data(i) {}\n",
    "    int m_data;\n",
    "};\"\"\")"
   ]
  },
  {
   "cell_type": "markdown",
   "metadata": {},
   "source": [
    "We now have a class 'Integer1'. Note that this class exists on the C++ side and has to follow C++ rules. For example, whereas in Python we can simply redefine a class, we can't do that in C++. Therefore, we will number the `Integer` classes as we go along, to be able to extend the example as we see fit.\n",
    "\n",
    "Python classes are constructed dynamically. It doesn't matter where or how they are defined, whether in a Python script, \"compiled\" into a C extension module, or otherwise. Cppyy takes advantage of this fact to generate bindings on-the-fly. This leads to performance advantages for large libraries with thousands of C++ classes; general distribution advantages since, other than the module cppyy itself, no code depends on any specific version of Python; and it enablers, through the Cling backend, interactive access to C++.\n",
    "\n",
    "To access our first class, find it in gbl, the global namespace:"
   ]
  },
  {
   "cell_type": "code",
   "execution_count": 4,
   "metadata": {},
   "outputs": [
    {
     "name": "stdout",
     "output_type": "stream",
     "text": [
      "<class cppyy.gbl.Integer1 at 0x1a426c0>\n"
     ]
    }
   ],
   "source": [
    "print(cppyy.gbl.Integer1)"
   ]
  },
  {
   "cell_type": "markdown",
   "metadata": {},
   "source": [
    "Namespaces have simularities to modules, so we could have imported the class as well.\n",
    "\n",
    "Bound C++ classes are first-class Python object. We can instantiate them, use normal Python introspection tools, call `help()`, they raise Python exceptions on failure, manage memory through Python's ref-counting and garbage collection, etc., etc. Furthermore, we can use them in conjunction with other C++ classes."
   ]
  },
  {
   "cell_type": "code",
   "execution_count": 5,
   "metadata": {},
   "outputs": [
    {
     "name": "stdout",
     "output_type": "stream",
     "text": [
      "Variable has an 'm_data' data member? Yes!\n",
      "Variable is an instance of int? No!\n",
      "Variable is an instance of Integer1? Yes!\n"
     ]
    }
   ],
   "source": [
    "# for convenience, bring Integer1 into __main__\n",
    "from cppyy.gbl import Integer1\n",
    "\n",
    "# create a C++ Integer1 object\n",
    "i = Integer1(42)\n",
    "\n",
    "# use Python inspection\n",
    "print(\"Variable has an 'm_data' data member?\", hasattr(i, 'm_data') and 'Yes!' or 'No!')\n",
    "print(\"Variable is an instance of int?\", isinstance(i, int) and 'Yes!' or 'No!')\n",
    "print(\"Variable is an instance of Integer1?\", isinstance(i, Integer1) and 'Yes!' or 'No!')"
   ]
  },
  {
   "cell_type": "code",
   "execution_count": 6,
   "metadata": {},
   "outputs": [
    {
     "name": "stdout",
     "output_type": "stream",
     "text": [
      "<cppyy.gbl.std.vector<Integer1> object at 0x336ddb0>\n"
     ]
    }
   ],
   "source": [
    "# pull in the STL vector class\n",
    "from cppyy.gbl.std import vector\n",
    "\n",
    "# create a vector of Integer1 objects; note how [] instantiates the template and () instantiates the class\n",
    "v = vector[Integer1]()\n",
    "\n",
    "# populate it\n",
    "v += [Integer1(j) for j in range(10)]\n",
    "\n",
    "# display our vector\n",
    "print(v)"
   ]
  },
  {
   "cell_type": "markdown",
   "metadata": {},
   "source": [
    "Hum, that doesn't look very pretty. However, since Integer1 is now a Python class we can decorate it, with a custom `__repr__` function (we'll punt on the `vector` and instead convert it to a Python `list` for printing)."
   ]
  },
  {
   "cell_type": "code",
   "execution_count": 7,
   "metadata": {},
   "outputs": [
    {
     "name": "stdout",
     "output_type": "stream",
     "text": [
      "[0, 1, 2, 3, 4, 5, 6, 7, 8, 9]\n"
     ]
    }
   ],
   "source": [
    "# add a custom conversion for printing\n",
    "Integer1.__repr__ = lambda self: repr(self.m_data)\n",
    "\n",
    "# now try again (note the conversion of the vector to a Python list)\n",
    "print(list(v))"
   ]
  },
  {
   "cell_type": "markdown",
   "metadata": {},
   "source": [
    "### Pythonizations\n",
    "\n",
    "As we have seen so far, automatic bindings are simple and easy to use. However, even though they are first-class Python objects, they do have some rough C++ edges left. There is some _pythonization_ going on in the background: the vector, for example, played nice with `+=` and the list conversion. But for presenting your own classes to end-users, specific pythonizations are desirable. To have this work correctly with lazy binding, a callback-based API exists.\n",
    "\n",
    "Now, it's too late for Integer1, so let's create Integer2, which lives in a namespace and in addition has a conversion feature."
   ]
  },
  {
   "cell_type": "code",
   "execution_count": 8,
   "metadata": {},
   "outputs": [],
   "source": [
    "# create an Integer2 class, living in namespace Math\n",
    "cppyy.cppdef(\"\"\"\n",
    "namespace Math {\n",
    "    class Integer2 : public Integer1 {\n",
    "    public:\n",
    "        using Integer1::Integer1;\n",
    "        operator int() { return m_data; }\n",
    "    };\n",
    "}\"\"\")"
   ]
  },
  {
   "cell_type": "code",
   "execution_count": 9,
   "metadata": {},
   "outputs": [],
   "source": [
    "# prepare a pythonizor\n",
    "def pythonizor(klass, name):\n",
    "    # A pythonizor receives the freshly prepared bound C++ class, and a name stripped down to\n",
    "    # the namespace the pythonizor is applied. Also accessible are klass.__name__ (for the\n",
    "    # Python name) and klass.__cpp_name__ (for the C++ name)\n",
    "    if name == 'Integer2':\n",
    "        klass.__repr__ = lambda self: repr(self.m_data)\n",
    "\n",
    "# install the pythonizor as a callback on namespace 'Math' (default is the global namespace)\n",
    "cppyy.py.add_pythonization(pythonizor, 'Math')"
   ]
  },
  {
   "cell_type": "code",
   "execution_count": 10,
   "metadata": {},
   "outputs": [
    {
     "name": "stdout",
     "output_type": "stream",
     "text": [
      "[0, 1, 2, 3, 4, 5, 6, 7, 8, 9]\n",
      "Converted Integer2 variable: 13\n"
     ]
    }
   ],
   "source": [
    "# when we next get the Integer2 class, it will have been decorated\n",
    "Integer2 = cppyy.gbl.Math.Integer2    # first time a new namespace is used, it can not be imported from\n",
    "v2 = vector[Integer2]()\n",
    "v2 += [Integer2(j) for j in range(10)]\n",
    "\n",
    "# now test the effect of the pythonizor:\n",
    "print(list(v2))\n",
    "\n",
    "# in addition, Integer2 has a conversion function, which is automatically recognized and pythonized\n",
    "i2 = Integer2(13)\n",
    "print(\"Converted Integer2 variable:\", int(i2))"
   ]
  },
  {
   "cell_type": "code",
   "execution_count": 11,
   "metadata": {},
   "outputs": [],
   "source": [
    "# continue the decoration on the C++ side, by adding an operator+ overload\n",
    "cppyy.cppdef(\"\"\"\n",
    "namespace Math {\n",
    "    Integer2 operator+(const Integer2& left, const Integer1& right) {\n",
    "        return left.m_data + right.m_data;\n",
    "    }\n",
    "}\"\"\")"
   ]
  },
  {
   "cell_type": "code",
   "execution_count": 12,
   "metadata": {},
   "outputs": [
    {
     "name": "stdout",
     "output_type": "stream",
     "text": [
      "55 55\n"
     ]
    }
   ],
   "source": [
    "# now use that fresh decoration (it will be located and bound on use):\n",
    "k = i2 + i\n",
    "print(k, i2.m_data + i.m_data)"
   ]
  },
  {
   "cell_type": "markdown",
   "metadata": {},
   "source": [
    "### Class Hierarchies\n",
    "\n",
    "Both Python and C++ support multiple programming paradigms, making it relatively straightforward to map language features (e.g. class inheritance, free functions, etc.); many other features can be cleanly hidden, merely because the syntax is very similar or otherwise natural (e.g. overloading, abstract classes, static data members, etc.); and yet others map gracefully because their semantic intent is expressed clearly in the syntax (e.g. smart pointers, STL, etc.).\n",
    "\n",
    "The following presents a range of C++ features that map naturally, and exercises them in Python."
   ]
  },
  {
   "cell_type": "code",
   "execution_count": 13,
   "metadata": {},
   "outputs": [],
   "source": [
    "# create some animals to play with\n",
    "cppyy.cppdef(\"\"\"\n",
    "namespace Zoo {\n",
    "\n",
    "    enum EAnimal { eLion, eMouse };\n",
    "    \n",
    "    class Animal {\n",
    "    public:\n",
    "        virtual ~Animal() {}\n",
    "        virtual std::string make_sound() = 0;\n",
    "    };\n",
    "    \n",
    "    class Lion : public Animal {\n",
    "    public:\n",
    "        virtual std::string make_sound() { return s_lion_sound; }\n",
    "        static std::string s_lion_sound;\n",
    "    };\n",
    "    std::string Lion::s_lion_sound = \"growl!\";\n",
    "\n",
    "    class Mouse : public Animal {\n",
    "    public:\n",
    "        virtual std::string make_sound() { return \"peep!\"; }\n",
    "    };\n",
    "\n",
    "    Animal* release_animal(EAnimal animal) {\n",
    "        if (animal == eLion) return new Lion{};\n",
    "        if (animal == eMouse) return new Mouse{};\n",
    "        return nullptr;\n",
    "    }\n",
    "\n",
    "    std::string identify_animal(Lion*) {\n",
    "        return \"the animal is a lion\";\n",
    "    }\n",
    "\n",
    "    std::string identify_animal(Mouse*) {\n",
    "        return \"the animal is a mouse\";\n",
    "    }\n",
    "\n",
    "}\n",
    "\"\"\")\n",
    "\n",
    "# pull in the Zoo (after which we can import from it)\n",
    "Zoo = cppyy.gbl.Zoo\n",
    "\n",
    "# pythonize the animal release function to take ownership on return\n",
    "Zoo.release_animal.__creates__ = True"
   ]
  },
  {
   "cell_type": "code",
   "execution_count": 14,
   "metadata": {},
   "outputs": [
    {
     "name": "stdout",
     "output_type": "stream",
     "text": [
      "Failed: none of the 2 overloaded methods succeeded. Full details:\n",
      "  cannot instantiate abstract class 'Zoo::Animal'\n",
      "  cannot instantiate abstract class 'Zoo::Animal' \n",
      "\n",
      "A Lion is an Animal? Yes! \n",
      "\n",
      "Type of mouse: <class cppyy.gbl.Zoo.Mouse at 0x24ea2f0>\n",
      "Type of lion: <class cppyy.gbl.Zoo.Lion at 0x37c1990> \n",
      "\n",
      "Does Python own the 'lion'? Yes!\n",
      "Does Python own the 'mouse'? Yes! \n",
      "\n",
      "The mouse says: peep!\n",
      "The lion says: growl! \n",
      "\n",
      "The lion says: mooh! \n",
      "\n",
      "Identification of 'mouse': the animal is a mouse\n",
      "Identification of 'lion': the animal is a lion\n"
     ]
    }
   ],
   "source": [
    "# abstract base classes can not be instantiated:\n",
    "try:\n",
    "    animal = Zoo.Animal()\n",
    "except TypeError as e:\n",
    "    print('Failed:', e, '\\n')\n",
    "\n",
    "# derived classes can be inspected in the same class hierarchy on the Python side\n",
    "print('A Lion is an Animal?', issubclass(Zoo.Lion, Zoo.Animal) and 'Yes!' or 'No!', '\\n')\n",
    "\n",
    "# returned pointer types are auto-casted to the lowest known derived type:\n",
    "mouse = Zoo.release_animal(Zoo.eMouse)\n",
    "print('Type of mouse:', type(mouse))\n",
    "lion = Zoo.release_animal(Zoo.eLion)\n",
    "print('Type of lion:', type(lion), '\\n')\n",
    "\n",
    "# as pythonized, the ownership of the return value from release_animal is Python's\n",
    "print(\"Does Python own the 'lion'?\", lion.__python_owns__ and 'Yes!' or 'No!')\n",
    "print(\"Does Python own the 'mouse'?\", mouse.__python_owns__ and 'Yes!' or 'No!', '\\n')\n",
    "\n",
    "# virtual functions work as expected:\n",
    "print('The mouse says:', mouse.make_sound())\n",
    "print('The lion says:', lion.make_sound(), '\\n')\n",
    "\n",
    "# now change what the lion says through its static (class) variable\n",
    "Zoo.Lion.s_lion_sound = \"mooh!\"\n",
    "print('The lion says:', lion.make_sound(), '\\n')\n",
    "\n",
    "# overloads are combined into a single function on the Python side and resolved dynamically\n",
    "print(\"Identification of \\'mouse\\':\", Zoo.identify_animal(mouse))\n",
    "print(\"Identification of \\'lion\\':\", Zoo.identify_animal(lion))"
   ]
  },
  {
   "cell_type": "markdown",
   "metadata": {},
   "source": [
    "### Modern C++\n",
    "\n",
    "As C++ matures, more and more semantic intent (such as object ownership) is expressed in the syntax. This not for the benefit of bindings generators, but for the poor programmer having to read the code. Still, a bindings generator benefits greatly from this increased expression."
   ]
  },
  {
   "cell_type": "code",
   "execution_count": 15,
   "metadata": {},
   "outputs": [],
   "source": [
    "cppyy.cppdef(\"\"\"\n",
    "namespace Zoo {\n",
    "   std::shared_ptr<Lion> free_lion{new Lion{}};\n",
    "\n",
    "   std::string identify_animal_smart(std::shared_ptr<Lion>& smart) {\n",
    "       return \"the animal is a lion\";\n",
    "   }\n",
    "}\n",
    "\"\"\")"
   ]
  },
  {
   "cell_type": "code",
   "execution_count": 16,
   "metadata": {},
   "outputs": [
    {
     "name": "stdout",
     "output_type": "stream",
     "text": [
      "Type of the 'free_lion' global: Lion\n",
      "Type of the 'free_lion' smart ptr: shared_ptr<Zoo::Lion>\n",
      "Dumb passing:  the animal is a lion\n",
      "Smart passing: the animal is a lion\n"
     ]
    }
   ],
   "source": [
    "# shared pointers are presented transparently as the wrapped type\n",
    "print(\"Type of the 'free_lion' global:\", type(Zoo.free_lion).__name__)\n",
    "\n",
    "# if need be, the smart pointer is accessible with a helper\n",
    "smart_lion = Zoo.free_lion.__smartptr__()\n",
    "print(\"Type of the 'free_lion' smart ptr:\", type(smart_lion).__name__)\n",
    "\n",
    "# pass through functions that expect a naked pointer or smart pointer\n",
    "print(\"Dumb passing: \", Zoo.identify_animal(Zoo.free_lion))\n",
    "print(\"Smart passing:\", Zoo.identify_animal_smart(Zoo.free_lion))"
   ]
  }
 ],
 "metadata": {
  "kernelspec": {
   "display_name": "Python 2",
   "language": "python",
   "name": "python2"
  },
  "language_info": {
   "codemirror_mode": {
    "name": "ipython",
    "version": 2
   },
   "file_extension": ".py",
   "mimetype": "text/x-python",
   "name": "python",
   "nbconvert_exporter": "python",
   "pygments_lexer": "ipython2",
   "version": "2.7.16"
  }
 },
 "nbformat": 4,
 "nbformat_minor": 2
}
