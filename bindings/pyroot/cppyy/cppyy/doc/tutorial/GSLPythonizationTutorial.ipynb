{
 "cells": [
  {
   "cell_type": "code",
   "execution_count": 1,
   "metadata": {},
   "outputs": [],
   "source": [
    "from __future__ import print_function"
   ]
  },
  {
   "cell_type": "markdown",
   "metadata": {},
   "source": [
    "## GSL Pythonization Tutorial\n",
    "\n",
    "_(Hat tip to Neil Dhir for the idea.)_\n",
    "\n",
    "This tutorial introduces pythonizations and how they can be used to solve low-level problems.\n",
    "\n",
    "The setup: imagine you want to use numpy, but are given a C or C++ library that is based on the GNU Scientific Library (GSL). How do make the two of them play nice together?\n",
    "\n",
    "GSL is written in C, but is very structured: it has consistent naming conventions, provides allocators/deallocators for its main structs, and has clear ownership rules. Because of this structure, it is possible to write pythonizations based on reflection information that end up being very simple and therefore easy to maintain."
   ]
  },
  {
   "cell_type": "code",
   "execution_count": 2,
   "metadata": {},
   "outputs": [],
   "source": [
    "import cppyy"
   ]
  },
  {
   "cell_type": "markdown",
   "metadata": {},
   "source": [
    "For simplicity, we will use `gsl_blas_dgemm` as a stand-in for the \"C/C++ library based on GSL.\" To make our life easier, we will wrap up the bindings to GSL and GSLBLAS into a single reflection dictionary. This is overkill for simple projects, but if we want access to all of GSL (as opposed to GSL and GSLBLAS separately, say), this approach is fine."
   ]
  },
  {
   "cell_type": "code",
   "execution_count": 3,
   "metadata": {},
   "outputs": [],
   "source": [
    "# first, pull in all headers from the GSL installation directory (/usr/include on my system).\n",
    "import glob, os\n",
    "GSL_HOME = '/usr/include'\n",
    "gsl_headers = [os.path.relpath(x, GSL_HOME) for x in glob.glob(GSL_HOME+'/gsl/*.h')]"
   ]
  },
  {
   "cell_type": "markdown",
   "metadata": {},
   "source": [
    "Next, we write a selection file that picks up all interesting bits from GSL. This file can be kept simple because of the proper naming conventions (it could have been simpler still if GSL were a C++ library, living in a single namespace). We then run the genreflex command to generate the dictionary file and compile it, linking in GSL and GSLBLAS. Finally, we're ready to load the dictionary reflection file into cppyy."
   ]
  },
  {
   "cell_type": "code",
   "execution_count": 4,
   "metadata": {},
   "outputs": [
    {
     "name": "stdout",
     "output_type": "stream",
     "text": [
      "Overwriting gsl_selection.xml\n"
     ]
    }
   ],
   "source": [
    "%%file gsl_selection.xml\n",
    "<lcgdict>\n",
    "   <struct pattern=\"gsl_*\" />\n",
    "   <function pattern=\"gsl_*\" />\n",
    "   <enum pattern=\"GSL*\" />\n",
    "   <enum pattern=\"CBLAS*\" />\n",
    "</lcgdict>\n"
   ]
  },
  {
   "cell_type": "code",
   "execution_count": 5,
   "metadata": {},
   "outputs": [
    {
     "name": "stdout",
     "output_type": "stream",
     "text": [
      "genreflex done\n"
     ]
    }
   ],
   "source": [
    "# conventional name for generated output\n",
    "rfldct = 'GSLDict'\n",
    "\n",
    "if not os.path.exists('%s_rflx.cpp' % rfldct):\n",
    "    import subprocess, sys\n",
    "\n",
    "    # generate the reflection dictionary\n",
    "    try:\n",
    "        subprocess.check_output(\n",
    "            ['genreflex',                  # utility installed by pip when installing cppyy\n",
    "             '-s', 'gsl_selection.xml',    # selection file (see above)\n",
    "             '-o', '%s_rflx.cpp'%rfldct,   # intermediate output file\n",
    "             '-I'+GSL_HOME]+               # include search path for GSL headers\n",
    "             gsl_headers)                  # headers themselves\n",
    "    except subprocess.CalledProcessError as e:\n",
    "        print(\"genreflex failed (%d):\" % e.returncode, e.output)\n",
    "    else:\n",
    "        print(\"genreflex done\")"
   ]
  },
  {
   "cell_type": "code",
   "execution_count": 6,
   "metadata": {},
   "outputs": [
    {
     "name": "stdout",
     "output_type": "stream",
     "text": [
      "cling-config done\n",
      "compilation done\n"
     ]
    }
   ],
   "source": [
    "if not os.path.exists('%s.so' % rfldct):\n",
    "    # get command line arguments for compiler from cling\n",
    "    try:\n",
    "        clingflags = subprocess.check_output(\n",
    "            ['cling-config',               # utility installed by pip when installing cppyy\n",
    "             '--cppflags'])\n",
    "    except subprocess.CalledProcessError as e:\n",
    "        print('cling-config failed (%d):' % e.returncode, e.output)\n",
    "        raise\n",
    "    else:\n",
    "        print('cling-config done')\n",
    "\n",
    "    # compile generated file\n",
    "    try:\n",
    "        subprocess.check_output(\n",
    "            ['g++',                        # C++ compiler\n",
    "             '-fPIC',                      # require position independent code\n",
    "             '-shared',                    # generate shared library\n",
    "             '-o', '%s.so'%rfldct,         # output file\n",
    "             '-I'+GSL_HOME,                # include search path for GSL headers\n",
    "             '%s_rflx.cpp'%rfldct]+        # intermediate file to compile\n",
    "             clingflags.split()+           # extra flags provided by cling\n",
    "             ['-lgsl', '-lgslcblas'])      # link in GSL and GSLBLAS\n",
    "    except subprocess.CalledProcessError as e:\n",
    "        print('compilation failed (%d):' % e.returncode, e.output)\n",
    "    else:\n",
    "        print('compilation done')"
   ]
  },
  {
   "cell_type": "code",
   "execution_count": 7,
   "metadata": {},
   "outputs": [],
   "source": [
    "# load the generated dictionary\n",
    "cppyy.load_reflection_info(rfldct)"
   ]
  },
  {
   "cell_type": "code",
   "execution_count": null,
   "metadata": {},
   "outputs": [],
   "source": []
  }
 ],
 "metadata": {
  "kernelspec": {
   "display_name": "Python 2",
   "language": "python",
   "name": "python2"
  },
  "language_info": {
   "codemirror_mode": {
    "name": "ipython",
    "version": 2
   },
   "file_extension": ".py",
   "mimetype": "text/x-python",
   "name": "python",
   "nbconvert_exporter": "python",
   "pygments_lexer": "ipython2",
   "version": "2.7.14"
  }
 },
 "nbformat": 4,
 "nbformat_minor": 2
}
