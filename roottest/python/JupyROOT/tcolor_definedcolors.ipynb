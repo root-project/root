{
 "cells": [
  {
   "cell_type": "code",
   "execution_count": null,
   "id": "b8ef0e09",
   "metadata": {},
   "outputs": [],
   "source": [
    "import ROOT"
   ]
  },
  {
   "cell_type": "code",
   "execution_count": null,
   "id": "ac871508",
   "metadata": {},
   "outputs": [],
   "source": [
    "ROOT.TColor.DefinedColors(1)"
   ]
  },
  {
   "cell_type": "code",
   "execution_count": null,
   "id": "4800d2c7",
   "metadata": {},
   "outputs": [],
   "source": [
    "c = ROOT.TCanvas(\"c\", \"Basic ROOT Plot\", 800, 600)"
   ]
  },
  {
   "cell_type": "code",
   "execution_count": null,
   "id": "f3900d8a",
   "metadata": {},
   "outputs": [],
   "source": [
    "h = ROOT.TH1F(\"h\", \"Example Histogram;X axis;Entries\", 100, 0, 10)"
   ]
  },
  {
   "cell_type": "code",
   "execution_count": null,
   "id": "d83cc9da",
   "metadata": {},
   "outputs": [],
   "source": [
    "for _ in range(10000):\n",
    "    h.Fill(ROOT.gRandom.Gaus(5, 1))"
   ]
  },
  {
   "cell_type": "code",
   "execution_count": null,
   "id": "1df7d032",
   "metadata": {},
   "outputs": [],
   "source": [
    "h.Draw()"
   ]
  },
  {
   "cell_type": "code",
   "execution_count": null,
   "id": "3743fddc",
   "metadata": {},
   "outputs": [],
   "source": [
    "c.Draw()"
   ]
  }
 ],
 "metadata": {
  "language_info": {
   "name": "python"
  }
 },
 "nbformat": 4,
 "nbformat_minor": 5
}
